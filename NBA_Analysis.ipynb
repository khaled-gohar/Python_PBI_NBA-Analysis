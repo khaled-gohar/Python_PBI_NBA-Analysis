{
 "cells": [
  {
   "cell_type": "code",
   "execution_count": 1,
   "metadata": {},
   "outputs": [],
   "source": [
    "import pandas as pd\n",
    "import matplotlib as plot"
   ]
  },
  {
   "cell_type": "code",
   "execution_count": 2,
   "metadata": {},
   "outputs": [],
   "source": [
    "df = pd.read_csv('Player_stats.csv')"
   ]
  },
  {
   "cell_type": "code",
   "execution_count": 3,
   "metadata": {},
   "outputs": [],
   "source": [
    "del df['Unnamed: 0']"
   ]
  },
  {
   "cell_type": "code",
   "execution_count": 4,
   "metadata": {},
   "outputs": [
    {
     "data": {
      "text/html": [
       "<div>\n",
       "<style scoped>\n",
       "    .dataframe tbody tr th:only-of-type {\n",
       "        vertical-align: middle;\n",
       "    }\n",
       "\n",
       "    .dataframe tbody tr th {\n",
       "        vertical-align: top;\n",
       "    }\n",
       "\n",
       "    .dataframe thead th {\n",
       "        text-align: right;\n",
       "    }\n",
       "</style>\n",
       "<table border=\"1\" class=\"dataframe\">\n",
       "  <thead>\n",
       "    <tr style=\"text-align: right;\">\n",
       "      <th></th>\n",
       "      <th>Player</th>\n",
       "      <th>Team</th>\n",
       "      <th>Year</th>\n",
       "    </tr>\n",
       "  </thead>\n",
       "  <tbody>\n",
       "    <tr>\n",
       "      <th>212</th>\n",
       "      <td>A.J. Green</td>\n",
       "      <td>Milwaukee Bucks</td>\n",
       "      <td>2023</td>\n",
       "    </tr>\n",
       "    <tr>\n",
       "      <th>214</th>\n",
       "      <td>Bobby Portis</td>\n",
       "      <td>Milwaukee Bucks</td>\n",
       "      <td>2023</td>\n",
       "    </tr>\n",
       "    <tr>\n",
       "      <th>216</th>\n",
       "      <td>Brook Lopez</td>\n",
       "      <td>Milwaukee Bucks</td>\n",
       "      <td>2023</td>\n",
       "    </tr>\n",
       "    <tr>\n",
       "      <th>218</th>\n",
       "      <td>Giannis Antetokounmpo</td>\n",
       "      <td>Milwaukee Bucks</td>\n",
       "      <td>2023</td>\n",
       "    </tr>\n",
       "    <tr>\n",
       "      <th>220</th>\n",
       "      <td>Goran Dragić</td>\n",
       "      <td>Milwaukee Bucks</td>\n",
       "      <td>2023</td>\n",
       "    </tr>\n",
       "    <tr>\n",
       "      <th>...</th>\n",
       "      <td>...</td>\n",
       "      <td>...</td>\n",
       "      <td>...</td>\n",
       "    </tr>\n",
       "    <tr>\n",
       "      <th>15683</th>\n",
       "      <td>Mitchell Robinson</td>\n",
       "      <td>New York Knicks</td>\n",
       "      <td>2023</td>\n",
       "    </tr>\n",
       "    <tr>\n",
       "      <th>15685</th>\n",
       "      <td>Obi Toppin</td>\n",
       "      <td>New York Knicks</td>\n",
       "      <td>2023</td>\n",
       "    </tr>\n",
       "    <tr>\n",
       "      <th>15687</th>\n",
       "      <td>Quentin Grimes</td>\n",
       "      <td>New York Knicks</td>\n",
       "      <td>2023</td>\n",
       "    </tr>\n",
       "    <tr>\n",
       "      <th>15689</th>\n",
       "      <td>RJ Barrett</td>\n",
       "      <td>New York Knicks</td>\n",
       "      <td>2023</td>\n",
       "    </tr>\n",
       "    <tr>\n",
       "      <th>15691</th>\n",
       "      <td>Trevor Keels</td>\n",
       "      <td>New York Knicks</td>\n",
       "      <td>2023</td>\n",
       "    </tr>\n",
       "  </tbody>\n",
       "</table>\n",
       "<p>576 rows × 3 columns</p>\n",
       "</div>"
      ],
      "text/plain": [
       "                      Player             Team  Year\n",
       "212               A.J. Green  Milwaukee Bucks  2023\n",
       "214             Bobby Portis  Milwaukee Bucks  2023\n",
       "216              Brook Lopez  Milwaukee Bucks  2023\n",
       "218    Giannis Antetokounmpo  Milwaukee Bucks  2023\n",
       "220             Goran Dragić  Milwaukee Bucks  2023\n",
       "...                      ...              ...   ...\n",
       "15683      Mitchell Robinson  New York Knicks  2023\n",
       "15685             Obi Toppin  New York Knicks  2023\n",
       "15687         Quentin Grimes  New York Knicks  2023\n",
       "15689             RJ Barrett  New York Knicks  2023\n",
       "15691           Trevor Keels  New York Knicks  2023\n",
       "\n",
       "[576 rows x 3 columns]"
      ]
     },
     "execution_count": 4,
     "metadata": {},
     "output_type": "execute_result"
    }
   ],
   "source": [
    "df[['Player','Team','Year']][df[['Player','Team','Year']].duplicated()]"
   ]
  },
  {
   "cell_type": "code",
   "execution_count": 5,
   "metadata": {},
   "outputs": [
    {
     "data": {
      "text/html": [
       "<div>\n",
       "<style scoped>\n",
       "    .dataframe tbody tr th:only-of-type {\n",
       "        vertical-align: middle;\n",
       "    }\n",
       "\n",
       "    .dataframe tbody tr th {\n",
       "        vertical-align: top;\n",
       "    }\n",
       "\n",
       "    .dataframe thead th {\n",
       "        text-align: right;\n",
       "    }\n",
       "</style>\n",
       "<table border=\"1\" class=\"dataframe\">\n",
       "  <thead>\n",
       "    <tr style=\"text-align: right;\">\n",
       "      <th></th>\n",
       "      <th>Player</th>\n",
       "      <th>Team</th>\n",
       "      <th>Year</th>\n",
       "    </tr>\n",
       "  </thead>\n",
       "  <tbody>\n",
       "    <tr>\n",
       "      <th>215</th>\n",
       "      <td>Brook Lopez</td>\n",
       "      <td>Milwaukee Bucks</td>\n",
       "      <td>2023</td>\n",
       "    </tr>\n",
       "    <tr>\n",
       "      <th>216</th>\n",
       "      <td>Brook Lopez</td>\n",
       "      <td>Milwaukee Bucks</td>\n",
       "      <td>2023</td>\n",
       "    </tr>\n",
       "  </tbody>\n",
       "</table>\n",
       "</div>"
      ],
      "text/plain": [
       "          Player             Team  Year\n",
       "215  Brook Lopez  Milwaukee Bucks  2023\n",
       "216  Brook Lopez  Milwaukee Bucks  2023"
      ]
     },
     "execution_count": 5,
     "metadata": {},
     "output_type": "execute_result"
    }
   ],
   "source": [
    "df[['Player','Team','Year']].loc[(df['Player'] == 'Brook Lopez') & (df['Year'] == 2023)]"
   ]
  },
  {
   "cell_type": "code",
   "execution_count": 6,
   "metadata": {},
   "outputs": [],
   "source": [
    "df=df[~df.duplicated()]"
   ]
  },
  {
   "cell_type": "code",
   "execution_count": 7,
   "metadata": {},
   "outputs": [
    {
     "data": {
      "text/plain": [
       "Index(['Player', 'Pos', 'Age', 'Tm', 'G', 'GS', 'MP', 'FG', 'FGA', 'FG%', '3P',\n",
       "       '3PA', '3P%', '2P', '2PA', '2P%', 'eFG%', 'FT', 'FTA', 'FT%', 'ORB',\n",
       "       'DRB', 'TRB', 'AST', 'STL', 'BLK', 'TOV', 'PF', 'PTS', 'Year',\n",
       "       'Pts Won', 'Pts Max', 'Share', 'Team', 'W', 'L', 'W/L%', 'GB', 'PS/G',\n",
       "       'PA/G', 'SRS'],\n",
       "      dtype='object')"
      ]
     },
     "execution_count": 7,
     "metadata": {},
     "output_type": "execute_result"
    }
   ],
   "source": [
    "df.columns"
   ]
  },
  {
   "cell_type": "code",
   "execution_count": 8,
   "metadata": {},
   "outputs": [
    {
     "data": {
      "text/html": [
       "<div>\n",
       "<style scoped>\n",
       "    .dataframe tbody tr th:only-of-type {\n",
       "        vertical-align: middle;\n",
       "    }\n",
       "\n",
       "    .dataframe tbody tr th {\n",
       "        vertical-align: top;\n",
       "    }\n",
       "\n",
       "    .dataframe thead th {\n",
       "        text-align: right;\n",
       "    }\n",
       "</style>\n",
       "<table border=\"1\" class=\"dataframe\">\n",
       "  <thead>\n",
       "    <tr style=\"text-align: right;\">\n",
       "      <th></th>\n",
       "      <th>Player</th>\n",
       "      <th>Team</th>\n",
       "      <th>Year</th>\n",
       "      <th>G</th>\n",
       "      <th>MP</th>\n",
       "      <th>PTS</th>\n",
       "      <th>AST</th>\n",
       "      <th>TRB</th>\n",
       "      <th>STL</th>\n",
       "      <th>BLK</th>\n",
       "      <th>TOV</th>\n",
       "    </tr>\n",
       "  </thead>\n",
       "  <tbody>\n",
       "    <tr>\n",
       "      <th>0</th>\n",
       "      <td>A.C. Green</td>\n",
       "      <td>Los Angeles Lakers</td>\n",
       "      <td>1991</td>\n",
       "      <td>82</td>\n",
       "      <td>26.4</td>\n",
       "      <td>9.1</td>\n",
       "      <td>0.9</td>\n",
       "      <td>6.3</td>\n",
       "      <td>0.7</td>\n",
       "      <td>0.3</td>\n",
       "      <td>1.2</td>\n",
       "    </tr>\n",
       "    <tr>\n",
       "      <th>1</th>\n",
       "      <td>Byron Scott</td>\n",
       "      <td>Los Angeles Lakers</td>\n",
       "      <td>1991</td>\n",
       "      <td>82</td>\n",
       "      <td>32.1</td>\n",
       "      <td>14.5</td>\n",
       "      <td>2.2</td>\n",
       "      <td>3.0</td>\n",
       "      <td>1.2</td>\n",
       "      <td>0.3</td>\n",
       "      <td>1.0</td>\n",
       "    </tr>\n",
       "    <tr>\n",
       "      <th>2</th>\n",
       "      <td>Elden Campbell</td>\n",
       "      <td>Los Angeles Lakers</td>\n",
       "      <td>1991</td>\n",
       "      <td>52</td>\n",
       "      <td>7.3</td>\n",
       "      <td>2.8</td>\n",
       "      <td>0.2</td>\n",
       "      <td>1.8</td>\n",
       "      <td>0.2</td>\n",
       "      <td>0.7</td>\n",
       "      <td>0.3</td>\n",
       "    </tr>\n",
       "    <tr>\n",
       "      <th>3</th>\n",
       "      <td>Irving Thomas</td>\n",
       "      <td>Los Angeles Lakers</td>\n",
       "      <td>1991</td>\n",
       "      <td>26</td>\n",
       "      <td>4.2</td>\n",
       "      <td>1.8</td>\n",
       "      <td>0.4</td>\n",
       "      <td>1.2</td>\n",
       "      <td>0.2</td>\n",
       "      <td>0.0</td>\n",
       "      <td>0.5</td>\n",
       "    </tr>\n",
       "    <tr>\n",
       "      <th>4</th>\n",
       "      <td>James Worthy</td>\n",
       "      <td>Los Angeles Lakers</td>\n",
       "      <td>1991</td>\n",
       "      <td>78</td>\n",
       "      <td>38.6</td>\n",
       "      <td>21.4</td>\n",
       "      <td>3.5</td>\n",
       "      <td>4.6</td>\n",
       "      <td>1.3</td>\n",
       "      <td>0.4</td>\n",
       "      <td>1.6</td>\n",
       "    </tr>\n",
       "    <tr>\n",
       "      <th>...</th>\n",
       "      <td>...</td>\n",
       "      <td>...</td>\n",
       "      <td>...</td>\n",
       "      <td>...</td>\n",
       "      <td>...</td>\n",
       "      <td>...</td>\n",
       "      <td>...</td>\n",
       "      <td>...</td>\n",
       "      <td>...</td>\n",
       "      <td>...</td>\n",
       "      <td>...</td>\n",
       "    </tr>\n",
       "    <tr>\n",
       "      <th>15807</th>\n",
       "      <td>Spencer Hawes</td>\n",
       "      <td>Milwaukee Bucks</td>\n",
       "      <td>2017</td>\n",
       "      <td>54</td>\n",
       "      <td>14.8</td>\n",
       "      <td>6.2</td>\n",
       "      <td>1.5</td>\n",
       "      <td>3.5</td>\n",
       "      <td>0.3</td>\n",
       "      <td>0.6</td>\n",
       "      <td>0.9</td>\n",
       "    </tr>\n",
       "    <tr>\n",
       "      <th>15808</th>\n",
       "      <td>Steve Novak</td>\n",
       "      <td>Milwaukee Bucks</td>\n",
       "      <td>2017</td>\n",
       "      <td>8</td>\n",
       "      <td>2.8</td>\n",
       "      <td>0.6</td>\n",
       "      <td>0.0</td>\n",
       "      <td>0.4</td>\n",
       "      <td>0.0</td>\n",
       "      <td>0.0</td>\n",
       "      <td>0.0</td>\n",
       "    </tr>\n",
       "    <tr>\n",
       "      <th>15809</th>\n",
       "      <td>Terrence Jones</td>\n",
       "      <td>Milwaukee Bucks</td>\n",
       "      <td>2017</td>\n",
       "      <td>54</td>\n",
       "      <td>23.5</td>\n",
       "      <td>10.8</td>\n",
       "      <td>1.1</td>\n",
       "      <td>5.7</td>\n",
       "      <td>0.7</td>\n",
       "      <td>1.0</td>\n",
       "      <td>0.9</td>\n",
       "    </tr>\n",
       "    <tr>\n",
       "      <th>15810</th>\n",
       "      <td>Thon Maker</td>\n",
       "      <td>Milwaukee Bucks</td>\n",
       "      <td>2017</td>\n",
       "      <td>57</td>\n",
       "      <td>9.9</td>\n",
       "      <td>4.0</td>\n",
       "      <td>0.4</td>\n",
       "      <td>2.0</td>\n",
       "      <td>0.2</td>\n",
       "      <td>0.5</td>\n",
       "      <td>0.3</td>\n",
       "    </tr>\n",
       "    <tr>\n",
       "      <th>15811</th>\n",
       "      <td>Tony Snell</td>\n",
       "      <td>Milwaukee Bucks</td>\n",
       "      <td>2017</td>\n",
       "      <td>80</td>\n",
       "      <td>29.2</td>\n",
       "      <td>8.5</td>\n",
       "      <td>1.2</td>\n",
       "      <td>3.1</td>\n",
       "      <td>0.7</td>\n",
       "      <td>0.2</td>\n",
       "      <td>0.7</td>\n",
       "    </tr>\n",
       "  </tbody>\n",
       "</table>\n",
       "<p>15236 rows × 11 columns</p>\n",
       "</div>"
      ],
      "text/plain": [
       "               Player                Team  Year   G    MP   PTS  AST  TRB   \n",
       "0          A.C. Green  Los Angeles Lakers  1991  82  26.4   9.1  0.9  6.3  \\\n",
       "1         Byron Scott  Los Angeles Lakers  1991  82  32.1  14.5  2.2  3.0   \n",
       "2      Elden Campbell  Los Angeles Lakers  1991  52   7.3   2.8  0.2  1.8   \n",
       "3       Irving Thomas  Los Angeles Lakers  1991  26   4.2   1.8  0.4  1.2   \n",
       "4        James Worthy  Los Angeles Lakers  1991  78  38.6  21.4  3.5  4.6   \n",
       "...               ...                 ...   ...  ..   ...   ...  ...  ...   \n",
       "15807   Spencer Hawes     Milwaukee Bucks  2017  54  14.8   6.2  1.5  3.5   \n",
       "15808     Steve Novak     Milwaukee Bucks  2017   8   2.8   0.6  0.0  0.4   \n",
       "15809  Terrence Jones     Milwaukee Bucks  2017  54  23.5  10.8  1.1  5.7   \n",
       "15810      Thon Maker     Milwaukee Bucks  2017  57   9.9   4.0  0.4  2.0   \n",
       "15811      Tony Snell     Milwaukee Bucks  2017  80  29.2   8.5  1.2  3.1   \n",
       "\n",
       "       STL  BLK  TOV  \n",
       "0      0.7  0.3  1.2  \n",
       "1      1.2  0.3  1.0  \n",
       "2      0.2  0.7  0.3  \n",
       "3      0.2  0.0  0.5  \n",
       "4      1.3  0.4  1.6  \n",
       "...    ...  ...  ...  \n",
       "15807  0.3  0.6  0.9  \n",
       "15808  0.0  0.0  0.0  \n",
       "15809  0.7  1.0  0.9  \n",
       "15810  0.2  0.5  0.3  \n",
       "15811  0.7  0.2  0.7  \n",
       "\n",
       "[15236 rows x 11 columns]"
      ]
     },
     "execution_count": 8,
     "metadata": {},
     "output_type": "execute_result"
    }
   ],
   "source": [
    "df[['Player','Team','Year','G','MP','PTS','AST','TRB','STL','BLK','TOV']]"
   ]
  },
  {
   "attachments": {},
   "cell_type": "markdown",
   "metadata": {},
   "source": [
    "## Who are the players with the best (Points , rebounds, blocks , Assists, steals, min per game)?"
   ]
  },
  {
   "cell_type": "code",
   "execution_count": 10,
   "metadata": {},
   "outputs": [],
   "source": [
    "df['TPTS'] = df['G'] * df['PTS'] # Create Total points per season \n",
    "df['TAST'] = df['G'] * df['AST'] # Create Total assests per season \n",
    "df['TTRB'] = df['G'] * df['TRB'] # Create Total total rebounds per season \n",
    "df['TSTL'] = df['G'] * df['STL'] # Create Total steals per season \n",
    "df['TBLK'] = df['G'] * df['BLK'] # Create Total blocks per season \n",
    "df['TTOV'] = df['G'] * df['TOV'] # Create Total turnover per season \n",
    "df['TMP']  = df['G'] * df['MP']  # Create Total min  per season "
   ]
  },
  {
   "attachments": {},
   "cell_type": "markdown",
   "metadata": {},
   "source": [
    "#### top 5 player with the highest points form 1991 to 2023"
   ]
  },
  {
   "cell_type": "code",
   "execution_count": 12,
   "metadata": {},
   "outputs": [],
   "source": [
    "Total_stats_per_player =df[['Player','G','TMP','TPTS','TAST','TTRB','TSTL','TBLK','TTOV']].groupby('Player').sum()"
   ]
  },
  {
   "cell_type": "code",
   "execution_count": 13,
   "metadata": {},
   "outputs": [
    {
     "data": {
      "text/html": [
       "<div>\n",
       "<style scoped>\n",
       "    .dataframe tbody tr th:only-of-type {\n",
       "        vertical-align: middle;\n",
       "    }\n",
       "\n",
       "    .dataframe tbody tr th {\n",
       "        vertical-align: top;\n",
       "    }\n",
       "\n",
       "    .dataframe thead th {\n",
       "        text-align: right;\n",
       "    }\n",
       "</style>\n",
       "<table border=\"1\" class=\"dataframe\">\n",
       "  <thead>\n",
       "    <tr style=\"text-align: right;\">\n",
       "      <th></th>\n",
       "      <th>G</th>\n",
       "      <th>TPTS</th>\n",
       "    </tr>\n",
       "    <tr>\n",
       "      <th>Player</th>\n",
       "      <th></th>\n",
       "      <th></th>\n",
       "    </tr>\n",
       "  </thead>\n",
       "  <tbody>\n",
       "    <tr>\n",
       "      <th>LeBron James</th>\n",
       "      <td>1421</td>\n",
       "      <td>38648.2</td>\n",
       "    </tr>\n",
       "    <tr>\n",
       "      <th>Kobe Bryant</th>\n",
       "      <td>1346</td>\n",
       "      <td>33633.3</td>\n",
       "    </tr>\n",
       "    <tr>\n",
       "      <th>Dirk Nowitzki</th>\n",
       "      <td>1522</td>\n",
       "      <td>31561.1</td>\n",
       "    </tr>\n",
       "    <tr>\n",
       "      <th>Shaquille O'Neal</th>\n",
       "      <td>1207</td>\n",
       "      <td>28602.9</td>\n",
       "    </tr>\n",
       "    <tr>\n",
       "      <th>Carmelo Anthony</th>\n",
       "      <td>1260</td>\n",
       "      <td>28285.2</td>\n",
       "    </tr>\n",
       "  </tbody>\n",
       "</table>\n",
       "</div>"
      ],
      "text/plain": [
       "                     G     TPTS\n",
       "Player                         \n",
       "LeBron James      1421  38648.2\n",
       "Kobe Bryant       1346  33633.3\n",
       "Dirk Nowitzki     1522  31561.1\n",
       "Shaquille O'Neal  1207  28602.9\n",
       "Carmelo Anthony   1260  28285.2"
      ]
     },
     "execution_count": 13,
     "metadata": {},
     "output_type": "execute_result"
    }
   ],
   "source": [
    "Total_stats_per_player[['G','TPTS']].sort_values('TPTS', ascending=False).head(5)## Top 5 player scoring from 1991 to 2023"
   ]
  },
  {
   "cell_type": "code",
   "execution_count": 14,
   "metadata": {},
   "outputs": [
    {
     "data": {
      "text/plain": [
       "<Axes: xlabel='Player'>"
      ]
     },
     "execution_count": 14,
     "metadata": {},
     "output_type": "execute_result"
    },
    {
     "data": {
      "image/png": "[encoded data removed]",
      "text/plain": [
       "<Figure size 640x480 with 1 Axes>"
      ]
     },
     "metadata": {},
     "output_type": "display_data"
    }
   ],
   "source": [
    "Total_stats_per_player[['G','TPTS']].sort_values('TPTS', ascending=False).head(5).plot.bar()"
   ]
  },
  {
   "attachments": {},
   "cell_type": "markdown",
   "metadata": {},
   "source": [
    "#### top 5 player with the highest Assists form 1991 to 2023"
   ]
  },
  {
   "cell_type": "code",
   "execution_count": 15,
   "metadata": {},
   "outputs": [
    {
     "data": {
      "text/html": [
       "<div>\n",
       "<style scoped>\n",
       "    .dataframe tbody tr th:only-of-type {\n",
       "        vertical-align: middle;\n",
       "    }\n",
       "\n",
       "    .dataframe tbody tr th {\n",
       "        vertical-align: top;\n",
       "    }\n",
       "\n",
       "    .dataframe thead th {\n",
       "        text-align: right;\n",
       "    }\n",
       "</style>\n",
       "<table border=\"1\" class=\"dataframe\">\n",
       "  <thead>\n",
       "    <tr style=\"text-align: right;\">\n",
       "      <th></th>\n",
       "      <th>G</th>\n",
       "      <th>TAST</th>\n",
       "    </tr>\n",
       "    <tr>\n",
       "      <th>Player</th>\n",
       "      <th></th>\n",
       "      <th></th>\n",
       "    </tr>\n",
       "  </thead>\n",
       "  <tbody>\n",
       "    <tr>\n",
       "      <th>Jason Kidd</th>\n",
       "      <td>1391</td>\n",
       "      <td>12114.0</td>\n",
       "    </tr>\n",
       "    <tr>\n",
       "      <th>Chris Paul</th>\n",
       "      <td>1214</td>\n",
       "      <td>11508.4</td>\n",
       "    </tr>\n",
       "    <tr>\n",
       "      <th>John Stockton</th>\n",
       "      <td>1016</td>\n",
       "      <td>10734.4</td>\n",
       "    </tr>\n",
       "    <tr>\n",
       "      <th>LeBron James</th>\n",
       "      <td>1421</td>\n",
       "      <td>10415.1</td>\n",
       "    </tr>\n",
       "    <tr>\n",
       "      <th>Steve Nash</th>\n",
       "      <td>1217</td>\n",
       "      <td>10337.1</td>\n",
       "    </tr>\n",
       "  </tbody>\n",
       "</table>\n",
       "</div>"
      ],
      "text/plain": [
       "                  G     TAST\n",
       "Player                      \n",
       "Jason Kidd     1391  12114.0\n",
       "Chris Paul     1214  11508.4\n",
       "John Stockton  1016  10734.4\n",
       "LeBron James   1421  10415.1\n",
       "Steve Nash     1217  10337.1"
      ]
     },
     "execution_count": 15,
     "metadata": {},
     "output_type": "execute_result"
    }
   ],
   "source": [
    "Total_stats_per_player[['G','TAST']].sort_values('TAST', ascending=False).head(5)## Top 5 player Assists from 1991 to 2023"
   ]
  },
  {
   "cell_type": "code",
   "execution_count": 16,
   "metadata": {},
   "outputs": [
    {
     "data": {
      "text/plain": [
       "<Axes: xlabel='Player'>"
      ]
     },
     "execution_count": 16,
     "metadata": {},
     "output_type": "execute_result"
    },
    {
     "data": {
      "image/png": "[encoded data removed]",
      "text/plain": [
       "<Figure size 640x480 with 1 Axes>"
      ]
     },
     "metadata": {},
     "output_type": "display_data"
    }
   ],
   "source": [
    "Total_stats_per_player[['G','TAST']].sort_values('TAST', ascending=False).head(5).head(5).plot.bar()"
   ]
  },
  {
   "attachments": {},
   "cell_type": "markdown",
   "metadata": {},
   "source": [
    "#### top 5 player with the highest rebounds form 1991 to 2023"
   ]
  },
  {
   "cell_type": "code",
   "execution_count": 17,
   "metadata": {},
   "outputs": [
    {
     "data": {
      "text/html": [
       "<div>\n",
       "<style scoped>\n",
       "    .dataframe tbody tr th:only-of-type {\n",
       "        vertical-align: middle;\n",
       "    }\n",
       "\n",
       "    .dataframe tbody tr th {\n",
       "        vertical-align: top;\n",
       "    }\n",
       "\n",
       "    .dataframe thead th {\n",
       "        text-align: right;\n",
       "    }\n",
       "</style>\n",
       "<table border=\"1\" class=\"dataframe\">\n",
       "  <thead>\n",
       "    <tr style=\"text-align: right;\">\n",
       "      <th></th>\n",
       "      <th>G</th>\n",
       "      <th>TTRB</th>\n",
       "    </tr>\n",
       "    <tr>\n",
       "      <th>Player</th>\n",
       "      <th></th>\n",
       "      <th></th>\n",
       "    </tr>\n",
       "  </thead>\n",
       "  <tbody>\n",
       "    <tr>\n",
       "      <th>Tim Duncan</th>\n",
       "      <td>1392</td>\n",
       "      <td>15083.3</td>\n",
       "    </tr>\n",
       "    <tr>\n",
       "      <th>Kevin Garnett</th>\n",
       "      <td>1462</td>\n",
       "      <td>14649.4</td>\n",
       "    </tr>\n",
       "    <tr>\n",
       "      <th>Dwight Howard</th>\n",
       "      <td>1242</td>\n",
       "      <td>14622.7</td>\n",
       "    </tr>\n",
       "    <tr>\n",
       "      <th>Shaquille O'Neal</th>\n",
       "      <td>1207</td>\n",
       "      <td>13096.6</td>\n",
       "    </tr>\n",
       "    <tr>\n",
       "      <th>Dikembe Mutombo</th>\n",
       "      <td>1196</td>\n",
       "      <td>12350.6</td>\n",
       "    </tr>\n",
       "  </tbody>\n",
       "</table>\n",
       "</div>"
      ],
      "text/plain": [
       "                     G     TTRB\n",
       "Player                         \n",
       "Tim Duncan        1392  15083.3\n",
       "Kevin Garnett     1462  14649.4\n",
       "Dwight Howard     1242  14622.7\n",
       "Shaquille O'Neal  1207  13096.6\n",
       "Dikembe Mutombo   1196  12350.6"
      ]
     },
     "execution_count": 17,
     "metadata": {},
     "output_type": "execute_result"
    }
   ],
   "source": [
    "Total_stats_per_player[['G','TTRB']].sort_values('TTRB', ascending=False).head(5)## Top 5 player rebounding from 1991 to 2023"
   ]
  },
  {
   "cell_type": "code",
   "execution_count": 18,
   "metadata": {},
   "outputs": [
    {
     "data": {
      "text/plain": [
       "<Axes: xlabel='Player'>"
      ]
     },
     "execution_count": 18,
     "metadata": {},
     "output_type": "execute_result"
    },
    {
     "data": {
      "image/png": "[encoded data removed]",
      "text/plain": [
       "<Figure size 640x480 with 1 Axes>"
      ]
     },
     "metadata": {},
     "output_type": "display_data"
    }
   ],
   "source": [
    "Total_stats_per_player[['G','TTRB']].sort_values('TTRB', ascending=False).head(5).plot.bar()"
   ]
  },
  {
   "attachments": {},
   "cell_type": "markdown",
   "metadata": {},
   "source": [
    "#### top 5 player with the highest steals form 1991 to 2023"
   ]
  },
  {
   "cell_type": "code",
   "execution_count": 19,
   "metadata": {},
   "outputs": [
    {
     "data": {
      "text/html": [
       "<div>\n",
       "<style scoped>\n",
       "    .dataframe tbody tr th:only-of-type {\n",
       "        vertical-align: middle;\n",
       "    }\n",
       "\n",
       "    .dataframe tbody tr th {\n",
       "        vertical-align: top;\n",
       "    }\n",
       "\n",
       "    .dataframe thead th {\n",
       "        text-align: right;\n",
       "    }\n",
       "</style>\n",
       "<table border=\"1\" class=\"dataframe\">\n",
       "  <thead>\n",
       "    <tr style=\"text-align: right;\">\n",
       "      <th></th>\n",
       "      <th>G</th>\n",
       "      <th>TSTL</th>\n",
       "    </tr>\n",
       "    <tr>\n",
       "      <th>Player</th>\n",
       "      <th></th>\n",
       "      <th></th>\n",
       "    </tr>\n",
       "  </thead>\n",
       "  <tbody>\n",
       "    <tr>\n",
       "      <th>Jason Kidd</th>\n",
       "      <td>1391</td>\n",
       "      <td>2692.6</td>\n",
       "    </tr>\n",
       "    <tr>\n",
       "      <th>Chris Paul</th>\n",
       "      <td>1214</td>\n",
       "      <td>2550.5</td>\n",
       "    </tr>\n",
       "    <tr>\n",
       "      <th>Gary Payton</th>\n",
       "      <td>1335</td>\n",
       "      <td>2460.3</td>\n",
       "    </tr>\n",
       "    <tr>\n",
       "      <th>LeBron James</th>\n",
       "      <td>1421</td>\n",
       "      <td>2188.6</td>\n",
       "    </tr>\n",
       "    <tr>\n",
       "      <th>John Stockton</th>\n",
       "      <td>1016</td>\n",
       "      <td>2113.0</td>\n",
       "    </tr>\n",
       "  </tbody>\n",
       "</table>\n",
       "</div>"
      ],
      "text/plain": [
       "                  G    TSTL\n",
       "Player                     \n",
       "Jason Kidd     1391  2692.6\n",
       "Chris Paul     1214  2550.5\n",
       "Gary Payton    1335  2460.3\n",
       "LeBron James   1421  2188.6\n",
       "John Stockton  1016  2113.0"
      ]
     },
     "execution_count": 19,
     "metadata": {},
     "output_type": "execute_result"
    }
   ],
   "source": [
    "Total_stats_per_player[['G','TSTL']].sort_values('TSTL', ascending=False).head(5)## Top 5 player stealing from 1991 to 2023"
   ]
  },
  {
   "cell_type": "code",
   "execution_count": 20,
   "metadata": {},
   "outputs": [
    {
     "data": {
      "text/plain": [
       "<Axes: xlabel='Player'>"
      ]
     },
     "execution_count": 20,
     "metadata": {},
     "output_type": "execute_result"
    },
    {
     "data": {
      "image/png": "[encoded data removed]",
      "text/plain": [
       "<Figure size 640x480 with 1 Axes>"
      ]
     },
     "metadata": {},
     "output_type": "display_data"
    }
   ],
   "source": [
    "Total_stats_per_player[['G','TSTL']].sort_values('TSTL', ascending=False).head(5).plot.bar()"
   ]
  },
  {
   "attachments": {},
   "cell_type": "markdown",
   "metadata": {},
   "source": [
    "#### top 5 player with the highest blocks form 1991 to 2023"
   ]
  },
  {
   "cell_type": "code",
   "execution_count": 21,
   "metadata": {},
   "outputs": [
    {
     "data": {
      "text/html": [
       "<div>\n",
       "<style scoped>\n",
       "    .dataframe tbody tr th:only-of-type {\n",
       "        vertical-align: middle;\n",
       "    }\n",
       "\n",
       "    .dataframe tbody tr th {\n",
       "        vertical-align: top;\n",
       "    }\n",
       "\n",
       "    .dataframe thead th {\n",
       "        text-align: right;\n",
       "    }\n",
       "</style>\n",
       "<table border=\"1\" class=\"dataframe\">\n",
       "  <thead>\n",
       "    <tr style=\"text-align: right;\">\n",
       "      <th></th>\n",
       "      <th>G</th>\n",
       "      <th>TBLK</th>\n",
       "    </tr>\n",
       "    <tr>\n",
       "      <th>Player</th>\n",
       "      <th></th>\n",
       "      <th></th>\n",
       "    </tr>\n",
       "  </thead>\n",
       "  <tbody>\n",
       "    <tr>\n",
       "      <th>Dikembe Mutombo</th>\n",
       "      <td>1196</td>\n",
       "      <td>3295.6</td>\n",
       "    </tr>\n",
       "    <tr>\n",
       "      <th>Tim Duncan</th>\n",
       "      <td>1392</td>\n",
       "      <td>3015.5</td>\n",
       "    </tr>\n",
       "    <tr>\n",
       "      <th>Shaquille O'Neal</th>\n",
       "      <td>1207</td>\n",
       "      <td>2727.9</td>\n",
       "    </tr>\n",
       "    <tr>\n",
       "      <th>David Robinson</th>\n",
       "      <td>905</td>\n",
       "      <td>2628.6</td>\n",
       "    </tr>\n",
       "    <tr>\n",
       "      <th>Alonzo Mourning</th>\n",
       "      <td>838</td>\n",
       "      <td>2355.8</td>\n",
       "    </tr>\n",
       "  </tbody>\n",
       "</table>\n",
       "</div>"
      ],
      "text/plain": [
       "                     G    TBLK\n",
       "Player                        \n",
       "Dikembe Mutombo   1196  3295.6\n",
       "Tim Duncan        1392  3015.5\n",
       "Shaquille O'Neal  1207  2727.9\n",
       "David Robinson     905  2628.6\n",
       "Alonzo Mourning    838  2355.8"
      ]
     },
     "execution_count": 21,
     "metadata": {},
     "output_type": "execute_result"
    }
   ],
   "source": [
    "Total_stats_per_player[['G','TBLK']].sort_values('TBLK', ascending=False).head(5)## Top 5 player Block from 1991 to 2023"
   ]
  },
  {
   "cell_type": "code",
   "execution_count": 22,
   "metadata": {},
   "outputs": [
    {
     "data": {
      "text/plain": [
       "<Axes: xlabel='Player'>"
      ]
     },
     "execution_count": 22,
     "metadata": {},
     "output_type": "execute_result"
    },
    {
     "data": {
      "image/png": "[encoded data removed]",
      "text/plain": [
       "<Figure size 640x480 with 1 Axes>"
      ]
     },
     "metadata": {},
     "output_type": "display_data"
    }
   ],
   "source": [
    "Total_stats_per_player[['G','TBLK']].sort_values('TBLK', ascending=False).head(5).plot.bar()"
   ]
  },
  {
   "attachments": {},
   "cell_type": "markdown",
   "metadata": {},
   "source": [
    "#### top 5 player with the highest turnovers form 1991 to 2023"
   ]
  },
  {
   "cell_type": "code",
   "execution_count": 23,
   "metadata": {},
   "outputs": [
    {
     "data": {
      "text/html": [
       "<div>\n",
       "<style scoped>\n",
       "    .dataframe tbody tr th:only-of-type {\n",
       "        vertical-align: middle;\n",
       "    }\n",
       "\n",
       "    .dataframe tbody tr th {\n",
       "        vertical-align: top;\n",
       "    }\n",
       "\n",
       "    .dataframe thead th {\n",
       "        text-align: right;\n",
       "    }\n",
       "</style>\n",
       "<table border=\"1\" class=\"dataframe\">\n",
       "  <thead>\n",
       "    <tr style=\"text-align: right;\">\n",
       "      <th></th>\n",
       "      <th>G</th>\n",
       "      <th>TTOV</th>\n",
       "    </tr>\n",
       "    <tr>\n",
       "      <th>Player</th>\n",
       "      <th></th>\n",
       "      <th></th>\n",
       "    </tr>\n",
       "  </thead>\n",
       "  <tbody>\n",
       "    <tr>\n",
       "      <th>LeBron James</th>\n",
       "      <td>1421</td>\n",
       "      <td>4965.4</td>\n",
       "    </tr>\n",
       "    <tr>\n",
       "      <th>Russell Westbrook</th>\n",
       "      <td>1094</td>\n",
       "      <td>4453.1</td>\n",
       "    </tr>\n",
       "    <tr>\n",
       "      <th>Kobe Bryant</th>\n",
       "      <td>1346</td>\n",
       "      <td>4016.0</td>\n",
       "    </tr>\n",
       "    <tr>\n",
       "      <th>Jason Kidd</th>\n",
       "      <td>1391</td>\n",
       "      <td>4000.8</td>\n",
       "    </tr>\n",
       "    <tr>\n",
       "      <th>James Harden</th>\n",
       "      <td>1000</td>\n",
       "      <td>3743.5</td>\n",
       "    </tr>\n",
       "  </tbody>\n",
       "</table>\n",
       "</div>"
      ],
      "text/plain": [
       "                      G    TTOV\n",
       "Player                         \n",
       "LeBron James       1421  4965.4\n",
       "Russell Westbrook  1094  4453.1\n",
       "Kobe Bryant        1346  4016.0\n",
       "Jason Kidd         1391  4000.8\n",
       "James Harden       1000  3743.5"
      ]
     },
     "execution_count": 23,
     "metadata": {},
     "output_type": "execute_result"
    }
   ],
   "source": [
    "Total_stats_per_player[['G','TTOV']].sort_values('TTOV', ascending=False).head(5)## Top 5 player turnover from 1991 to 2023"
   ]
  },
  {
   "cell_type": "code",
   "execution_count": 24,
   "metadata": {},
   "outputs": [
    {
     "data": {
      "text/plain": [
       "<Axes: xlabel='Player'>"
      ]
     },
     "execution_count": 24,
     "metadata": {},
     "output_type": "execute_result"
    },
    {
     "data": {
      "image/png": "[encoded data removed]",
      "text/plain": [
       "<Figure size 640x480 with 1 Axes>"
      ]
     },
     "metadata": {},
     "output_type": "display_data"
    }
   ],
   "source": [
    "Total_stats_per_player[['G','TTOV']].sort_values('TTOV', ascending=False).head(5).plot.bar()"
   ]
  },
  {
   "attachments": {},
   "cell_type": "markdown",
   "metadata": {},
   "source": [
    "#### top 5 player with the highest minutes form 1991 to 2023"
   ]
  },
  {
   "cell_type": "code",
   "execution_count": 25,
   "metadata": {},
   "outputs": [
    {
     "data": {
      "text/html": [
       "<div>\n",
       "<style scoped>\n",
       "    .dataframe tbody tr th:only-of-type {\n",
       "        vertical-align: middle;\n",
       "    }\n",
       "\n",
       "    .dataframe tbody tr th {\n",
       "        vertical-align: top;\n",
       "    }\n",
       "\n",
       "    .dataframe thead th {\n",
       "        text-align: right;\n",
       "    }\n",
       "</style>\n",
       "<table border=\"1\" class=\"dataframe\">\n",
       "  <thead>\n",
       "    <tr style=\"text-align: right;\">\n",
       "      <th></th>\n",
       "      <th>G</th>\n",
       "      <th>TMP</th>\n",
       "    </tr>\n",
       "    <tr>\n",
       "      <th>Player</th>\n",
       "      <th></th>\n",
       "      <th></th>\n",
       "    </tr>\n",
       "  </thead>\n",
       "  <tbody>\n",
       "    <tr>\n",
       "      <th>LeBron James</th>\n",
       "      <td>1421</td>\n",
       "      <td>54093.8</td>\n",
       "    </tr>\n",
       "    <tr>\n",
       "      <th>Dirk Nowitzki</th>\n",
       "      <td>1522</td>\n",
       "      <td>51373.0</td>\n",
       "    </tr>\n",
       "    <tr>\n",
       "      <th>Kevin Garnett</th>\n",
       "      <td>1462</td>\n",
       "      <td>50425.1</td>\n",
       "    </tr>\n",
       "    <tr>\n",
       "      <th>Jason Kidd</th>\n",
       "      <td>1391</td>\n",
       "      <td>50120.6</td>\n",
       "    </tr>\n",
       "    <tr>\n",
       "      <th>Kobe Bryant</th>\n",
       "      <td>1346</td>\n",
       "      <td>48622.4</td>\n",
       "    </tr>\n",
       "  </tbody>\n",
       "</table>\n",
       "</div>"
      ],
      "text/plain": [
       "                  G      TMP\n",
       "Player                      \n",
       "LeBron James   1421  54093.8\n",
       "Dirk Nowitzki  1522  51373.0\n",
       "Kevin Garnett  1462  50425.1\n",
       "Jason Kidd     1391  50120.6\n",
       "Kobe Bryant    1346  48622.4"
      ]
     },
     "execution_count": 25,
     "metadata": {},
     "output_type": "execute_result"
    }
   ],
   "source": [
    "Total_stats_per_player[['G','TMP']].sort_values('TMP', ascending=False).head(5)## Top 5 player turnover from 1991 to 2023"
   ]
  },
  {
   "cell_type": "code",
   "execution_count": 26,
   "metadata": {},
   "outputs": [
    {
     "data": {
      "text/plain": [
       "<Axes: xlabel='Player'>"
      ]
     },
     "execution_count": 26,
     "metadata": {},
     "output_type": "execute_result"
    },
    {
     "data": {
      "image/png": "[encoded data removed]",
      "text/plain": [
       "<Figure size 640x480 with 1 Axes>"
      ]
     },
     "metadata": {},
     "output_type": "display_data"
    }
   ],
   "source": [
    "Total_stats_per_player[['G','TMP']].sort_values('TMP', ascending=False).head(5).plot.bar()"
   ]
  },
  {
   "attachments": {},
   "cell_type": "markdown",
   "metadata": {},
   "source": [
    "## Who are the players with the best season (Points , rebounds, blocks , Assists, steals, min per game)"
   ]
  },
  {
   "attachments": {},
   "cell_type": "markdown",
   "metadata": {},
   "source": [
    "#### top 5 player with the highest season points"
   ]
  },
  {
   "cell_type": "code",
   "execution_count": 27,
   "metadata": {},
   "outputs": [],
   "source": [
    "highest_per_season= df[df['G'] > 70]"
   ]
  },
  {
   "cell_type": "code",
   "execution_count": 28,
   "metadata": {},
   "outputs": [
    {
     "data": {
      "text/html": [
       "<div>\n",
       "<style scoped>\n",
       "    .dataframe tbody tr th:only-of-type {\n",
       "        vertical-align: middle;\n",
       "    }\n",
       "\n",
       "    .dataframe tbody tr th {\n",
       "        vertical-align: top;\n",
       "    }\n",
       "\n",
       "    .dataframe thead th {\n",
       "        text-align: right;\n",
       "    }\n",
       "</style>\n",
       "<table border=\"1\" class=\"dataframe\">\n",
       "  <thead>\n",
       "    <tr style=\"text-align: right;\">\n",
       "      <th></th>\n",
       "      <th>Player</th>\n",
       "      <th>Team</th>\n",
       "      <th>Year</th>\n",
       "      <th>PTS</th>\n",
       "    </tr>\n",
       "  </thead>\n",
       "  <tbody>\n",
       "    <tr>\n",
       "      <th>10797</th>\n",
       "      <td>James Harden</td>\n",
       "      <td>Houston Rockets</td>\n",
       "      <td>2019</td>\n",
       "      <td>36.1</td>\n",
       "    </tr>\n",
       "    <tr>\n",
       "      <th>1241</th>\n",
       "      <td>Kobe Bryant</td>\n",
       "      <td>Los Angeles Lakers</td>\n",
       "      <td>2006</td>\n",
       "      <td>35.4</td>\n",
       "    </tr>\n",
       "    <tr>\n",
       "      <th>5121</th>\n",
       "      <td>Allen Iverson</td>\n",
       "      <td>Philadelphia 76ers</td>\n",
       "      <td>2006</td>\n",
       "      <td>33.0</td>\n",
       "    </tr>\n",
       "    <tr>\n",
       "      <th>11116</th>\n",
       "      <td>Michael Jordan</td>\n",
       "      <td>Chicago Bulls</td>\n",
       "      <td>1993</td>\n",
       "      <td>32.6</td>\n",
       "    </tr>\n",
       "    <tr>\n",
       "      <th>7739</th>\n",
       "      <td>Tracy McGrady</td>\n",
       "      <td>Orlando Magic</td>\n",
       "      <td>2003</td>\n",
       "      <td>32.1</td>\n",
       "    </tr>\n",
       "  </tbody>\n",
       "</table>\n",
       "</div>"
      ],
      "text/plain": [
       "               Player                Team  Year   PTS\n",
       "10797    James Harden     Houston Rockets  2019  36.1\n",
       "1241      Kobe Bryant  Los Angeles Lakers  2006  35.4\n",
       "5121    Allen Iverson  Philadelphia 76ers  2006  33.0\n",
       "11116  Michael Jordan       Chicago Bulls  1993  32.6\n",
       "7739    Tracy McGrady       Orlando Magic  2003  32.1"
      ]
     },
     "execution_count": 28,
     "metadata": {},
     "output_type": "execute_result"
    }
   ],
   "source": [
    "highest_per_season[['Player','Team','Year','PTS']].sort_values('PTS',ascending=False).head(5)"
   ]
  },
  {
   "cell_type": "code",
   "execution_count": 30,
   "metadata": {},
   "outputs": [
    {
     "data": {
      "text/plain": [
       "<Axes: xlabel='Player'>"
      ]
     },
     "execution_count": 30,
     "metadata": {},
     "output_type": "execute_result"
    },
    {
     "data": {
      "image/png": "[encoded data removed]",
      "text/plain": [
       "<Figure size 640x480 with 1 Axes>"
      ]
     },
     "metadata": {},
     "output_type": "display_data"
    }
   ],
   "source": [
    "highest_per_season[['Player','Team','PTS']].sort_values('PTS',ascending=False).head(5).plot.bar('Player')"
   ]
  },
  {
   "attachments": {},
   "cell_type": "markdown",
   "metadata": {},
   "source": [
    "#### top 5 player with the highest season Assists"
   ]
  },
  {
   "cell_type": "code",
   "execution_count": 31,
   "metadata": {},
   "outputs": [],
   "source": [
    "highest_per_season = df[df['G'] > 70].sort_values('AST',ascending=False).head(5)"
   ]
  },
  {
   "cell_type": "code",
   "execution_count": 32,
   "metadata": {},
   "outputs": [
    {
     "data": {
      "text/html": [
       "<div>\n",
       "<style scoped>\n",
       "    .dataframe tbody tr th:only-of-type {\n",
       "        vertical-align: middle;\n",
       "    }\n",
       "\n",
       "    .dataframe tbody tr th {\n",
       "        vertical-align: top;\n",
       "    }\n",
       "\n",
       "    .dataframe thead th {\n",
       "        text-align: right;\n",
       "    }\n",
       "</style>\n",
       "<table border=\"1\" class=\"dataframe\">\n",
       "  <thead>\n",
       "    <tr style=\"text-align: right;\">\n",
       "      <th></th>\n",
       "      <th>Player</th>\n",
       "      <th>Team</th>\n",
       "      <th>Year</th>\n",
       "      <th>AST</th>\n",
       "    </tr>\n",
       "  </thead>\n",
       "  <tbody>\n",
       "    <tr>\n",
       "      <th>8180</th>\n",
       "      <td>John Stockton</td>\n",
       "      <td>Utah Jazz</td>\n",
       "      <td>1991</td>\n",
       "      <td>14.2</td>\n",
       "    </tr>\n",
       "    <tr>\n",
       "      <th>12041</th>\n",
       "      <td>John Stockton</td>\n",
       "      <td>Utah Jazz</td>\n",
       "      <td>1992</td>\n",
       "      <td>13.7</td>\n",
       "    </tr>\n",
       "    <tr>\n",
       "      <th>1428</th>\n",
       "      <td>John Stockton</td>\n",
       "      <td>Utah Jazz</td>\n",
       "      <td>1994</td>\n",
       "      <td>12.6</td>\n",
       "    </tr>\n",
       "    <tr>\n",
       "      <th>6</th>\n",
       "      <td>Magic Johnson</td>\n",
       "      <td>Los Angeles Lakers</td>\n",
       "      <td>1991</td>\n",
       "      <td>12.5</td>\n",
       "    </tr>\n",
       "    <tr>\n",
       "      <th>1885</th>\n",
       "      <td>John Stockton</td>\n",
       "      <td>Utah Jazz</td>\n",
       "      <td>1995</td>\n",
       "      <td>12.3</td>\n",
       "    </tr>\n",
       "  </tbody>\n",
       "</table>\n",
       "</div>"
      ],
      "text/plain": [
       "              Player                Team  Year   AST\n",
       "8180   John Stockton           Utah Jazz  1991  14.2\n",
       "12041  John Stockton           Utah Jazz  1992  13.7\n",
       "1428   John Stockton           Utah Jazz  1994  12.6\n",
       "6      Magic Johnson  Los Angeles Lakers  1991  12.5\n",
       "1885   John Stockton           Utah Jazz  1995  12.3"
      ]
     },
     "execution_count": 32,
     "metadata": {},
     "output_type": "execute_result"
    }
   ],
   "source": [
    "highest_per_season[['Player','Team','Year','AST']]"
   ]
  },
  {
   "cell_type": "code",
   "execution_count": 33,
   "metadata": {},
   "outputs": [
    {
     "data": {
      "text/plain": [
       "<Axes: xlabel='Player'>"
      ]
     },
     "execution_count": 33,
     "metadata": {},
     "output_type": "execute_result"
    },
    {
     "data": {
      "image/png": "[encoded data removed]",
      "text/plain": [
       "<Figure size 640x480 with 1 Axes>"
      ]
     },
     "metadata": {},
     "output_type": "display_data"
    }
   ],
   "source": [
    "highest_per_season[['Player','Team','AST']].sort_values('AST',ascending=False).head(5).plot.bar('Player')"
   ]
  },
  {
   "attachments": {},
   "cell_type": "markdown",
   "metadata": {},
   "source": [
    "#### top 5 player with the highest season rebounds"
   ]
  },
  {
   "cell_type": "code",
   "execution_count": 34,
   "metadata": {},
   "outputs": [],
   "source": [
    "highest_per_season = df[df['G'] > 70].sort_values('TRB',ascending=False).head(5)"
   ]
  },
  {
   "cell_type": "code",
   "execution_count": 35,
   "metadata": {},
   "outputs": [
    {
     "data": {
      "text/html": [
       "<div>\n",
       "<style scoped>\n",
       "    .dataframe tbody tr th:only-of-type {\n",
       "        vertical-align: middle;\n",
       "    }\n",
       "\n",
       "    .dataframe tbody tr th {\n",
       "        vertical-align: top;\n",
       "    }\n",
       "\n",
       "    .dataframe thead th {\n",
       "        text-align: right;\n",
       "    }\n",
       "</style>\n",
       "<table border=\"1\" class=\"dataframe\">\n",
       "  <thead>\n",
       "    <tr style=\"text-align: right;\">\n",
       "      <th></th>\n",
       "      <th>Player</th>\n",
       "      <th>Team</th>\n",
       "      <th>Year</th>\n",
       "      <th>TRB</th>\n",
       "    </tr>\n",
       "  </thead>\n",
       "  <tbody>\n",
       "    <tr>\n",
       "      <th>11731</th>\n",
       "      <td>Dennis Rodman</td>\n",
       "      <td>Detroit Pistons</td>\n",
       "      <td>1992</td>\n",
       "      <td>18.7</td>\n",
       "    </tr>\n",
       "    <tr>\n",
       "      <th>9774</th>\n",
       "      <td>Dennis Rodman</td>\n",
       "      <td>San Antonio Spurs</td>\n",
       "      <td>1994</td>\n",
       "      <td>17.3</td>\n",
       "    </tr>\n",
       "    <tr>\n",
       "      <th>6678</th>\n",
       "      <td>Andre Drummond</td>\n",
       "      <td>Detroit Pistons</td>\n",
       "      <td>2018</td>\n",
       "      <td>16.0</td>\n",
       "    </tr>\n",
       "    <tr>\n",
       "      <th>6697</th>\n",
       "      <td>Andre Drummond</td>\n",
       "      <td>Detroit Pistons</td>\n",
       "      <td>2019</td>\n",
       "      <td>15.6</td>\n",
       "    </tr>\n",
       "    <tr>\n",
       "      <th>4629</th>\n",
       "      <td>Kevin Willis</td>\n",
       "      <td>Atlanta Hawks</td>\n",
       "      <td>1992</td>\n",
       "      <td>15.5</td>\n",
       "    </tr>\n",
       "  </tbody>\n",
       "</table>\n",
       "</div>"
      ],
      "text/plain": [
       "               Player               Team  Year   TRB\n",
       "11731   Dennis Rodman    Detroit Pistons  1992  18.7\n",
       "9774    Dennis Rodman  San Antonio Spurs  1994  17.3\n",
       "6678   Andre Drummond    Detroit Pistons  2018  16.0\n",
       "6697   Andre Drummond    Detroit Pistons  2019  15.6\n",
       "4629     Kevin Willis      Atlanta Hawks  1992  15.5"
      ]
     },
     "execution_count": 35,
     "metadata": {},
     "output_type": "execute_result"
    }
   ],
   "source": [
    "highest_per_season[['Player','Team','Year','TRB']]"
   ]
  },
  {
   "cell_type": "code",
   "execution_count": 36,
   "metadata": {},
   "outputs": [
    {
     "data": {
      "text/plain": [
       "<Axes: xlabel='Player'>"
      ]
     },
     "execution_count": 36,
     "metadata": {},
     "output_type": "execute_result"
    },
    {
     "data": {
      "image/png": "[encoded data removed]",
      "text/plain": [
       "<Figure size 640x480 with 1 Axes>"
      ]
     },
     "metadata": {},
     "output_type": "display_data"
    }
   ],
   "source": [
    "highest_per_season[['Player','Team','TRB']].sort_values('TRB',ascending=False).head(5).plot.bar('Player')"
   ]
  },
  {
   "attachments": {},
   "cell_type": "markdown",
   "metadata": {},
   "source": [
    "#### top 5 player with the highest season steals"
   ]
  },
  {
   "cell_type": "code",
   "execution_count": 37,
   "metadata": {},
   "outputs": [],
   "source": [
    "highest_per_season = df[df['G'] > 70].sort_values('STL',ascending=False).head(5)"
   ]
  },
  {
   "cell_type": "code",
   "execution_count": 38,
   "metadata": {},
   "outputs": [
    {
     "data": {
      "text/html": [
       "<div>\n",
       "<style scoped>\n",
       "    .dataframe tbody tr th:only-of-type {\n",
       "        vertical-align: middle;\n",
       "    }\n",
       "\n",
       "    .dataframe tbody tr th {\n",
       "        vertical-align: top;\n",
       "    }\n",
       "\n",
       "    .dataframe thead th {\n",
       "        text-align: right;\n",
       "    }\n",
       "</style>\n",
       "<table border=\"1\" class=\"dataframe\">\n",
       "  <thead>\n",
       "    <tr style=\"text-align: right;\">\n",
       "      <th></th>\n",
       "      <th>Player</th>\n",
       "      <th>Team</th>\n",
       "      <th>Year</th>\n",
       "      <th>STL</th>\n",
       "    </tr>\n",
       "  </thead>\n",
       "  <tbody>\n",
       "    <tr>\n",
       "      <th>2459</th>\n",
       "      <td>Alvin Robertson</td>\n",
       "      <td>Milwaukee Bucks</td>\n",
       "      <td>1991</td>\n",
       "      <td>3.0</td>\n",
       "    </tr>\n",
       "    <tr>\n",
       "      <th>12041</th>\n",
       "      <td>John Stockton</td>\n",
       "      <td>Utah Jazz</td>\n",
       "      <td>1992</td>\n",
       "      <td>3.0</td>\n",
       "    </tr>\n",
       "    <tr>\n",
       "      <th>5572</th>\n",
       "      <td>Nate McMillan</td>\n",
       "      <td>Seattle SuperSonics</td>\n",
       "      <td>1994</td>\n",
       "      <td>3.0</td>\n",
       "    </tr>\n",
       "    <tr>\n",
       "      <th>11150</th>\n",
       "      <td>Scottie Pippen</td>\n",
       "      <td>Chicago Bulls</td>\n",
       "      <td>1995</td>\n",
       "      <td>2.9</td>\n",
       "    </tr>\n",
       "    <tr>\n",
       "      <th>11135</th>\n",
       "      <td>Scottie Pippen</td>\n",
       "      <td>Chicago Bulls</td>\n",
       "      <td>1994</td>\n",
       "      <td>2.9</td>\n",
       "    </tr>\n",
       "  </tbody>\n",
       "</table>\n",
       "</div>"
      ],
      "text/plain": [
       "                Player                 Team  Year  STL\n",
       "2459   Alvin Robertson      Milwaukee Bucks  1991  3.0\n",
       "12041    John Stockton            Utah Jazz  1992  3.0\n",
       "5572     Nate McMillan  Seattle SuperSonics  1994  3.0\n",
       "11150   Scottie Pippen        Chicago Bulls  1995  2.9\n",
       "11135   Scottie Pippen        Chicago Bulls  1994  2.9"
      ]
     },
     "execution_count": 38,
     "metadata": {},
     "output_type": "execute_result"
    }
   ],
   "source": [
    "highest_per_season[['Player','Team','Year','STL']]"
   ]
  },
  {
   "cell_type": "code",
   "execution_count": 39,
   "metadata": {},
   "outputs": [
    {
     "data": {
      "text/plain": [
       "<Axes: xlabel='Player'>"
      ]
     },
     "execution_count": 39,
     "metadata": {},
     "output_type": "execute_result"
    },
    {
     "data": {
      "image/png": "[encoded data removed]",
      "text/plain": [
       "<Figure size 640x480 with 1 Axes>"
      ]
     },
     "metadata": {},
     "output_type": "display_data"
    }
   ],
   "source": [
    "highest_per_season[['Player','Team','STL']].sort_values('STL',ascending=False).head(5).plot.bar('Player')"
   ]
  },
  {
   "attachments": {},
   "cell_type": "markdown",
   "metadata": {},
   "source": [
    "#### top 5 player with the highest season blocks"
   ]
  },
  {
   "cell_type": "code",
   "execution_count": 40,
   "metadata": {},
   "outputs": [],
   "source": [
    "highest_per_season = df[df['G'] > 70].sort_values('BLK',ascending=False).head(5)"
   ]
  },
  {
   "cell_type": "code",
   "execution_count": 41,
   "metadata": {},
   "outputs": [
    {
     "data": {
      "text/html": [
       "<div>\n",
       "<style scoped>\n",
       "    .dataframe tbody tr th:only-of-type {\n",
       "        vertical-align: middle;\n",
       "    }\n",
       "\n",
       "    .dataframe tbody tr th {\n",
       "        vertical-align: top;\n",
       "    }\n",
       "\n",
       "    .dataframe thead th {\n",
       "        text-align: right;\n",
       "    }\n",
       "</style>\n",
       "<table border=\"1\" class=\"dataframe\">\n",
       "  <thead>\n",
       "    <tr style=\"text-align: right;\">\n",
       "      <th></th>\n",
       "      <th>Player</th>\n",
       "      <th>Team</th>\n",
       "      <th>Year</th>\n",
       "      <th>BLK</th>\n",
       "    </tr>\n",
       "  </thead>\n",
       "  <tbody>\n",
       "    <tr>\n",
       "      <th>10223</th>\n",
       "      <td>Dikembe Mutombo</td>\n",
       "      <td>Denver Nuggets</td>\n",
       "      <td>1996</td>\n",
       "      <td>4.5</td>\n",
       "    </tr>\n",
       "    <tr>\n",
       "      <th>14220</th>\n",
       "      <td>Hakeem Olajuwon</td>\n",
       "      <td>Houston Rockets</td>\n",
       "      <td>1993</td>\n",
       "      <td>4.2</td>\n",
       "    </tr>\n",
       "    <tr>\n",
       "      <th>2308</th>\n",
       "      <td>Dikembe Mutombo</td>\n",
       "      <td>Denver Nuggets</td>\n",
       "      <td>1994</td>\n",
       "      <td>4.1</td>\n",
       "    </tr>\n",
       "    <tr>\n",
       "      <th>10932</th>\n",
       "      <td>David Robinson</td>\n",
       "      <td>San Antonio Spurs</td>\n",
       "      <td>1991</td>\n",
       "      <td>3.9</td>\n",
       "    </tr>\n",
       "    <tr>\n",
       "      <th>11942</th>\n",
       "      <td>Dikembe Mutombo</td>\n",
       "      <td>Denver Nuggets</td>\n",
       "      <td>1995</td>\n",
       "      <td>3.9</td>\n",
       "    </tr>\n",
       "  </tbody>\n",
       "</table>\n",
       "</div>"
      ],
      "text/plain": [
       "                Player               Team  Year  BLK\n",
       "10223  Dikembe Mutombo     Denver Nuggets  1996  4.5\n",
       "14220  Hakeem Olajuwon    Houston Rockets  1993  4.2\n",
       "2308   Dikembe Mutombo     Denver Nuggets  1994  4.1\n",
       "10932   David Robinson  San Antonio Spurs  1991  3.9\n",
       "11942  Dikembe Mutombo     Denver Nuggets  1995  3.9"
      ]
     },
     "execution_count": 41,
     "metadata": {},
     "output_type": "execute_result"
    }
   ],
   "source": [
    "highest_per_season[['Player','Team','Year','BLK']]"
   ]
  },
  {
   "cell_type": "code",
   "execution_count": 42,
   "metadata": {},
   "outputs": [
    {
     "data": {
      "text/plain": [
       "<Axes: xlabel='Player'>"
      ]
     },
     "execution_count": 42,
     "metadata": {},
     "output_type": "execute_result"
    },
    {
     "data": {
      "image/png": "[encoded data removed]",
      "text/plain": [
       "<Figure size 640x480 with 1 Axes>"
      ]
     },
     "metadata": {},
     "output_type": "display_data"
    }
   ],
   "source": [
    "highest_per_season[['Player','Team','BLK']].sort_values('BLK',ascending=False).head(5).plot.bar('Player')"
   ]
  },
  {
   "attachments": {},
   "cell_type": "markdown",
   "metadata": {},
   "source": [
    "#### top 5 player with the highest season turnovers"
   ]
  },
  {
   "cell_type": "code",
   "execution_count": 43,
   "metadata": {},
   "outputs": [],
   "source": [
    "highest_per_season = df[df['G'] > 70].sort_values('TOV',ascending=False).head(5)"
   ]
  },
  {
   "cell_type": "code",
   "execution_count": 44,
   "metadata": {},
   "outputs": [
    {
     "data": {
      "text/html": [
       "<div>\n",
       "<style scoped>\n",
       "    .dataframe tbody tr th:only-of-type {\n",
       "        vertical-align: middle;\n",
       "    }\n",
       "\n",
       "    .dataframe tbody tr th {\n",
       "        vertical-align: top;\n",
       "    }\n",
       "\n",
       "    .dataframe thead th {\n",
       "        text-align: right;\n",
       "    }\n",
       "</style>\n",
       "<table border=\"1\" class=\"dataframe\">\n",
       "  <thead>\n",
       "    <tr style=\"text-align: right;\">\n",
       "      <th></th>\n",
       "      <th>Player</th>\n",
       "      <th>Team</th>\n",
       "      <th>Year</th>\n",
       "      <th>TOV</th>\n",
       "    </tr>\n",
       "  </thead>\n",
       "  <tbody>\n",
       "    <tr>\n",
       "      <th>12288</th>\n",
       "      <td>James Harden</td>\n",
       "      <td>Houston Rockets</td>\n",
       "      <td>2017</td>\n",
       "      <td>5.7</td>\n",
       "    </tr>\n",
       "    <tr>\n",
       "      <th>7220</th>\n",
       "      <td>Russell Westbrook</td>\n",
       "      <td>Oklahoma City Thunder</td>\n",
       "      <td>2017</td>\n",
       "      <td>5.4</td>\n",
       "    </tr>\n",
       "    <tr>\n",
       "      <th>10797</th>\n",
       "      <td>James Harden</td>\n",
       "      <td>Houston Rockets</td>\n",
       "      <td>2019</td>\n",
       "      <td>5.0</td>\n",
       "    </tr>\n",
       "    <tr>\n",
       "      <th>7239</th>\n",
       "      <td>Russell Westbrook</td>\n",
       "      <td>Oklahoma City Thunder</td>\n",
       "      <td>2018</td>\n",
       "      <td>4.8</td>\n",
       "    </tr>\n",
       "    <tr>\n",
       "      <th>7809</th>\n",
       "      <td>James Harden</td>\n",
       "      <td>Houston Rockets</td>\n",
       "      <td>2016</td>\n",
       "      <td>4.6</td>\n",
       "    </tr>\n",
       "  </tbody>\n",
       "</table>\n",
       "</div>"
      ],
      "text/plain": [
       "                  Player                   Team  Year  TOV\n",
       "12288       James Harden        Houston Rockets  2017  5.7\n",
       "7220   Russell Westbrook  Oklahoma City Thunder  2017  5.4\n",
       "10797       James Harden        Houston Rockets  2019  5.0\n",
       "7239   Russell Westbrook  Oklahoma City Thunder  2018  4.8\n",
       "7809        James Harden        Houston Rockets  2016  4.6"
      ]
     },
     "execution_count": 44,
     "metadata": {},
     "output_type": "execute_result"
    }
   ],
   "source": [
    "highest_per_season[['Player','Team','Year','TOV']]"
   ]
  },
  {
   "cell_type": "code",
   "execution_count": 45,
   "metadata": {},
   "outputs": [
    {
     "data": {
      "text/plain": [
       "<Axes: xlabel='Player'>"
      ]
     },
     "execution_count": 45,
     "metadata": {},
     "output_type": "execute_result"
    },
    {
     "data": {
      "image/png": "[encoded data removed]",
      "text/plain": [
       "<Figure size 640x480 with 1 Axes>"
      ]
     },
     "metadata": {},
     "output_type": "display_data"
    }
   ],
   "source": [
    "highest_per_season[['Player','Team','TOV']].sort_values('TOV',ascending=False).head(5).plot.bar('Player')"
   ]
  },
  {
   "attachments": {},
   "cell_type": "markdown",
   "metadata": {},
   "source": [
    "#### top 5 player with the highest season min"
   ]
  },
  {
   "cell_type": "code",
   "execution_count": 46,
   "metadata": {},
   "outputs": [],
   "source": [
    "highest_per_season = df[df['G'] > 70].sort_values('MP',ascending=False).head(5)"
   ]
  },
  {
   "cell_type": "code",
   "execution_count": 47,
   "metadata": {},
   "outputs": [
    {
     "data": {
      "text/html": [
       "<div>\n",
       "<style scoped>\n",
       "    .dataframe tbody tr th:only-of-type {\n",
       "        vertical-align: middle;\n",
       "    }\n",
       "\n",
       "    .dataframe tbody tr th {\n",
       "        vertical-align: top;\n",
       "    }\n",
       "\n",
       "    .dataframe thead th {\n",
       "        text-align: right;\n",
       "    }\n",
       "</style>\n",
       "<table border=\"1\" class=\"dataframe\">\n",
       "  <thead>\n",
       "    <tr style=\"text-align: right;\">\n",
       "      <th></th>\n",
       "      <th>Player</th>\n",
       "      <th>Team</th>\n",
       "      <th>Year</th>\n",
       "      <th>MP</th>\n",
       "    </tr>\n",
       "  </thead>\n",
       "  <tbody>\n",
       "    <tr>\n",
       "      <th>9334</th>\n",
       "      <td>Anthony Mason</td>\n",
       "      <td>Charlotte Hornets</td>\n",
       "      <td>1997</td>\n",
       "      <td>43.1</td>\n",
       "    </tr>\n",
       "    <tr>\n",
       "      <th>10969</th>\n",
       "      <td>Latrell Sprewell</td>\n",
       "      <td>Golden State Warriors</td>\n",
       "      <td>1994</td>\n",
       "      <td>43.1</td>\n",
       "    </tr>\n",
       "    <tr>\n",
       "      <th>5121</th>\n",
       "      <td>Allen Iverson</td>\n",
       "      <td>Philadelphia 76ers</td>\n",
       "      <td>2006</td>\n",
       "      <td>43.1</td>\n",
       "    </tr>\n",
       "    <tr>\n",
       "      <th>9337</th>\n",
       "      <td>Glen Rice</td>\n",
       "      <td>Charlotte Hornets</td>\n",
       "      <td>1997</td>\n",
       "      <td>42.6</td>\n",
       "    </tr>\n",
       "    <tr>\n",
       "      <th>3746</th>\n",
       "      <td>LeBron James</td>\n",
       "      <td>Cleveland Cavaliers</td>\n",
       "      <td>2006</td>\n",
       "      <td>42.5</td>\n",
       "    </tr>\n",
       "  </tbody>\n",
       "</table>\n",
       "</div>"
      ],
      "text/plain": [
       "                 Player                   Team  Year    MP\n",
       "9334      Anthony Mason      Charlotte Hornets  1997  43.1\n",
       "10969  Latrell Sprewell  Golden State Warriors  1994  43.1\n",
       "5121      Allen Iverson     Philadelphia 76ers  2006  43.1\n",
       "9337          Glen Rice      Charlotte Hornets  1997  42.6\n",
       "3746       LeBron James    Cleveland Cavaliers  2006  42.5"
      ]
     },
     "execution_count": 47,
     "metadata": {},
     "output_type": "execute_result"
    }
   ],
   "source": [
    "highest_per_season[['Player','Team','Year','MP']]"
   ]
  },
  {
   "cell_type": "code",
   "execution_count": 48,
   "metadata": {},
   "outputs": [
    {
     "data": {
      "text/plain": [
       "<Axes: xlabel='Player'>"
      ]
     },
     "execution_count": 48,
     "metadata": {},
     "output_type": "execute_result"
    },
    {
     "data": {
      "image/png": "[encoded data removed]",
      "text/plain": [
       "<Figure size 640x480 with 1 Axes>"
      ]
     },
     "metadata": {},
     "output_type": "display_data"
    }
   ],
   "source": [
    "highest_per_season[['Player','Team','MP']].sort_values('MP',ascending=False).head(5).plot.bar('Player')"
   ]
  },
  {
   "attachments": {},
   "cell_type": "markdown",
   "metadata": {},
   "source": [
    "## What team with the most winning games and less losing games form 1991 to 2023? Why?"
   ]
  },
  {
   "cell_type": "code",
   "execution_count": 49,
   "metadata": {},
   "outputs": [],
   "source": [
    "Team_stats= df[['Team','W','L','G','TPTS','TAST','TTRB','TSTL','TBLK','TTOV']]"
   ]
  },
  {
   "cell_type": "code",
   "execution_count": 50,
   "metadata": {},
   "outputs": [],
   "source": [
    "best_team =Team_stats.groupby('Team').sum().sort_values('W',ascending=False).head(5)"
   ]
  },
  {
   "cell_type": "code",
   "execution_count": 51,
   "metadata": {},
   "outputs": [
    {
     "data": {
      "text/plain": [
       "21707.2"
      ]
     },
     "execution_count": 51,
     "metadata": {},
     "output_type": "execute_result"
    }
   ],
   "source": [
    "best_team['TSTL'].max()"
   ]
  },
  {
   "attachments": {},
   "cell_type": "markdown",
   "metadata": {},
   "source": [
    "#### top 5 team with the highest winning games"
   ]
  },
  {
   "cell_type": "code",
   "execution_count": 52,
   "metadata": {},
   "outputs": [
    {
     "data": {
      "text/html": [
       "<div>\n",
       "<style scoped>\n",
       "    .dataframe tbody tr th:only-of-type {\n",
       "        vertical-align: middle;\n",
       "    }\n",
       "\n",
       "    .dataframe tbody tr th {\n",
       "        vertical-align: top;\n",
       "    }\n",
       "\n",
       "    .dataframe thead th {\n",
       "        text-align: right;\n",
       "    }\n",
       "</style>\n",
       "<table border=\"1\" class=\"dataframe\">\n",
       "  <thead>\n",
       "    <tr style=\"text-align: right;\">\n",
       "      <th></th>\n",
       "      <th>W</th>\n",
       "      <th>L</th>\n",
       "      <th>G</th>\n",
       "      <th>TPTS</th>\n",
       "      <th>TAST</th>\n",
       "      <th>TTRB</th>\n",
       "      <th>TSTL</th>\n",
       "      <th>TBLK</th>\n",
       "      <th>TTOV</th>\n",
       "    </tr>\n",
       "    <tr>\n",
       "      <th>Team</th>\n",
       "      <th></th>\n",
       "      <th></th>\n",
       "      <th></th>\n",
       "      <th></th>\n",
       "      <th></th>\n",
       "      <th></th>\n",
       "      <th></th>\n",
       "      <th></th>\n",
       "      <th></th>\n",
       "    </tr>\n",
       "  </thead>\n",
       "  <tbody>\n",
       "    <tr>\n",
       "      <th>San Antonio Spurs</th>\n",
       "      <td>25249.0</td>\n",
       "      <td>12930.0</td>\n",
       "      <td>28384</td>\n",
       "      <td>267715.4</td>\n",
       "      <td>60963.1</td>\n",
       "      <td>114294.7</td>\n",
       "      <td>19592.2</td>\n",
       "      <td>14914.3</td>\n",
       "      <td>35925.0</td>\n",
       "    </tr>\n",
       "    <tr>\n",
       "      <th>Miami Heat</th>\n",
       "      <td>23208.0</td>\n",
       "      <td>19045.0</td>\n",
       "      <td>26423</td>\n",
       "      <td>266109.5</td>\n",
       "      <td>58406.5</td>\n",
       "      <td>111676.5</td>\n",
       "      <td>20380.4</td>\n",
       "      <td>13074.3</td>\n",
       "      <td>37731.7</td>\n",
       "    </tr>\n",
       "    <tr>\n",
       "      <th>Houston Rockets</th>\n",
       "      <td>22400.0</td>\n",
       "      <td>16640.0</td>\n",
       "      <td>26254</td>\n",
       "      <td>271140.7</td>\n",
       "      <td>58791.1</td>\n",
       "      <td>113504.0</td>\n",
       "      <td>21144.6</td>\n",
       "      <td>13302.2</td>\n",
       "      <td>38954.4</td>\n",
       "    </tr>\n",
       "    <tr>\n",
       "      <th>Boston Celtics</th>\n",
       "      <td>22130.0</td>\n",
       "      <td>19319.0</td>\n",
       "      <td>27218</td>\n",
       "      <td>269658.1</td>\n",
       "      <td>60060.5</td>\n",
       "      <td>111858.3</td>\n",
       "      <td>21707.2</td>\n",
       "      <td>12617.5</td>\n",
       "      <td>37654.6</td>\n",
       "    </tr>\n",
       "    <tr>\n",
       "      <th>Indiana Pacers</th>\n",
       "      <td>21906.0</td>\n",
       "      <td>19031.0</td>\n",
       "      <td>27676</td>\n",
       "      <td>270224.0</td>\n",
       "      <td>61362.4</td>\n",
       "      <td>114000.5</td>\n",
       "      <td>20531.1</td>\n",
       "      <td>13554.6</td>\n",
       "      <td>38393.8</td>\n",
       "    </tr>\n",
       "  </tbody>\n",
       "</table>\n",
       "</div>"
      ],
      "text/plain": [
       "                         W        L      G      TPTS     TAST      TTRB   \n",
       "Team                                                                      \n",
       "San Antonio Spurs  25249.0  12930.0  28384  267715.4  60963.1  114294.7  \\\n",
       "Miami Heat         23208.0  19045.0  26423  266109.5  58406.5  111676.5   \n",
       "Houston Rockets    22400.0  16640.0  26254  271140.7  58791.1  113504.0   \n",
       "Boston Celtics     22130.0  19319.0  27218  269658.1  60060.5  111858.3   \n",
       "Indiana Pacers     21906.0  19031.0  27676  270224.0  61362.4  114000.5   \n",
       "\n",
       "                      TSTL     TBLK     TTOV  \n",
       "Team                                          \n",
       "San Antonio Spurs  19592.2  14914.3  35925.0  \n",
       "Miami Heat         20380.4  13074.3  37731.7  \n",
       "Houston Rockets    21144.6  13302.2  38954.4  \n",
       "Boston Celtics     21707.2  12617.5  37654.6  \n",
       "Indiana Pacers     20531.1  13554.6  38393.8  "
      ]
     },
     "execution_count": 52,
     "metadata": {},
     "output_type": "execute_result"
    }
   ],
   "source": [
    "best_team"
   ]
  },
  {
   "cell_type": "code",
   "execution_count": 92,
   "metadata": {},
   "outputs": [
    {
     "data": {
      "text/plain": [
       "<Axes: xlabel='Team'>"
      ]
     },
     "execution_count": 92,
     "metadata": {},
     "output_type": "execute_result"
    },
    {
     "data": {
      "image/png": "[encoded data removed]",
      "text/plain": [
       "<Figure size 640x480 with 1 Axes>"
      ]
     },
     "metadata": {},
     "output_type": "display_data"
    }
   ],
   "source": [
    "Team_stats[['Team','W','L']].groupby('Team').sum().sort_values('W',ascending=False).head(5).plot.bar()"
   ]
  },
  {
   "attachments": {},
   "cell_type": "markdown",
   "metadata": {},
   "source": [
    "#### top 5 teams assests"
   ]
  },
  {
   "cell_type": "code",
   "execution_count": 93,
   "metadata": {},
   "outputs": [
    {
     "data": {
      "text/html": [
       "<div>\n",
       "<style scoped>\n",
       "    .dataframe tbody tr th:only-of-type {\n",
       "        vertical-align: middle;\n",
       "    }\n",
       "\n",
       "    .dataframe tbody tr th {\n",
       "        vertical-align: top;\n",
       "    }\n",
       "\n",
       "    .dataframe thead th {\n",
       "        text-align: right;\n",
       "    }\n",
       "</style>\n",
       "<table border=\"1\" class=\"dataframe\">\n",
       "  <thead>\n",
       "    <tr style=\"text-align: right;\">\n",
       "      <th></th>\n",
       "      <th>W</th>\n",
       "      <th>L</th>\n",
       "      <th>TAST</th>\n",
       "    </tr>\n",
       "    <tr>\n",
       "      <th>Team</th>\n",
       "      <th></th>\n",
       "      <th></th>\n",
       "      <th></th>\n",
       "    </tr>\n",
       "  </thead>\n",
       "  <tbody>\n",
       "    <tr>\n",
       "      <th>San Antonio Spurs</th>\n",
       "      <td>25249.0</td>\n",
       "      <td>12930.0</td>\n",
       "      <td>60963.1</td>\n",
       "    </tr>\n",
       "    <tr>\n",
       "      <th>Miami Heat</th>\n",
       "      <td>23208.0</td>\n",
       "      <td>19045.0</td>\n",
       "      <td>58406.5</td>\n",
       "    </tr>\n",
       "    <tr>\n",
       "      <th>Houston Rockets</th>\n",
       "      <td>22400.0</td>\n",
       "      <td>16640.0</td>\n",
       "      <td>58791.1</td>\n",
       "    </tr>\n",
       "    <tr>\n",
       "      <th>Boston Celtics</th>\n",
       "      <td>22130.0</td>\n",
       "      <td>19319.0</td>\n",
       "      <td>60060.5</td>\n",
       "    </tr>\n",
       "    <tr>\n",
       "      <th>Indiana Pacers</th>\n",
       "      <td>21906.0</td>\n",
       "      <td>19031.0</td>\n",
       "      <td>61362.4</td>\n",
       "    </tr>\n",
       "  </tbody>\n",
       "</table>\n",
       "</div>"
      ],
      "text/plain": [
       "                         W        L     TAST\n",
       "Team                                        \n",
       "San Antonio Spurs  25249.0  12930.0  60963.1\n",
       "Miami Heat         23208.0  19045.0  58406.5\n",
       "Houston Rockets    22400.0  16640.0  58791.1\n",
       "Boston Celtics     22130.0  19319.0  60060.5\n",
       "Indiana Pacers     21906.0  19031.0  61362.4"
      ]
     },
     "execution_count": 93,
     "metadata": {},
     "output_type": "execute_result"
    }
   ],
   "source": [
    "Team_stats[['Team','W','L','TAST']].groupby('Team').sum().sort_values(['W','TAST'],ascending=False).head(5)"
   ]
  },
  {
   "cell_type": "code",
   "execution_count": 55,
   "metadata": {},
   "outputs": [
    {
     "data": {
      "text/plain": [
       "<Axes: xlabel='Team'>"
      ]
     },
     "execution_count": 55,
     "metadata": {},
     "output_type": "execute_result"
    },
    {
     "data": {
      "image/png": "[encoded data removed]",
      "text/plain": [
       "<Figure size 640x480 with 1 Axes>"
      ]
     },
     "metadata": {},
     "output_type": "display_data"
    }
   ],
   "source": [
    "Team_stats[['Team','W','L','TAST']].groupby('Team').sum().sort_values(['W','TAST'],ascending=False).head(5).plot.bar()"
   ]
  },
  {
   "attachments": {},
   "cell_type": "markdown",
   "metadata": {},
   "source": [
    "#### top 5 teams rebounds"
   ]
  },
  {
   "cell_type": "code",
   "execution_count": 95,
   "metadata": {},
   "outputs": [
    {
     "data": {
      "text/html": [
       "<div>\n",
       "<style scoped>\n",
       "    .dataframe tbody tr th:only-of-type {\n",
       "        vertical-align: middle;\n",
       "    }\n",
       "\n",
       "    .dataframe tbody tr th {\n",
       "        vertical-align: top;\n",
       "    }\n",
       "\n",
       "    .dataframe thead th {\n",
       "        text-align: right;\n",
       "    }\n",
       "</style>\n",
       "<table border=\"1\" class=\"dataframe\">\n",
       "  <thead>\n",
       "    <tr style=\"text-align: right;\">\n",
       "      <th></th>\n",
       "      <th>W</th>\n",
       "      <th>L</th>\n",
       "      <th>TTRB</th>\n",
       "    </tr>\n",
       "    <tr>\n",
       "      <th>Team</th>\n",
       "      <th></th>\n",
       "      <th></th>\n",
       "      <th></th>\n",
       "    </tr>\n",
       "  </thead>\n",
       "  <tbody>\n",
       "    <tr>\n",
       "      <th>San Antonio Spurs</th>\n",
       "      <td>25249.0</td>\n",
       "      <td>12930.0</td>\n",
       "      <td>114294.7</td>\n",
       "    </tr>\n",
       "    <tr>\n",
       "      <th>Miami Heat</th>\n",
       "      <td>23208.0</td>\n",
       "      <td>19045.0</td>\n",
       "      <td>111676.5</td>\n",
       "    </tr>\n",
       "    <tr>\n",
       "      <th>Houston Rockets</th>\n",
       "      <td>22400.0</td>\n",
       "      <td>16640.0</td>\n",
       "      <td>113504.0</td>\n",
       "    </tr>\n",
       "    <tr>\n",
       "      <th>Boston Celtics</th>\n",
       "      <td>22130.0</td>\n",
       "      <td>19319.0</td>\n",
       "      <td>111858.3</td>\n",
       "    </tr>\n",
       "    <tr>\n",
       "      <th>Indiana Pacers</th>\n",
       "      <td>21906.0</td>\n",
       "      <td>19031.0</td>\n",
       "      <td>114000.5</td>\n",
       "    </tr>\n",
       "  </tbody>\n",
       "</table>\n",
       "</div>"
      ],
      "text/plain": [
       "                         W        L      TTRB\n",
       "Team                                         \n",
       "San Antonio Spurs  25249.0  12930.0  114294.7\n",
       "Miami Heat         23208.0  19045.0  111676.5\n",
       "Houston Rockets    22400.0  16640.0  113504.0\n",
       "Boston Celtics     22130.0  19319.0  111858.3\n",
       "Indiana Pacers     21906.0  19031.0  114000.5"
      ]
     },
     "execution_count": 95,
     "metadata": {},
     "output_type": "execute_result"
    }
   ],
   "source": [
    "Team_stats[['Team','W','L','TTRB']].groupby('Team').sum().sort_values(['W','TTRB'],ascending=False).head(5)"
   ]
  },
  {
   "cell_type": "code",
   "execution_count": 96,
   "metadata": {},
   "outputs": [
    {
     "data": {
      "text/plain": [
       "<Axes: xlabel='Team'>"
      ]
     },
     "execution_count": 96,
     "metadata": {},
     "output_type": "execute_result"
    },
    {
     "data": {
      "image/png": "[encoded data removed]",
      "text/plain": [
       "<Figure size 640x480 with 1 Axes>"
      ]
     },
     "metadata": {},
     "output_type": "display_data"
    }
   ],
   "source": [
    "Team_stats[['Team','W','L','TTRB']].groupby('Team').sum().sort_values(['W','TTRB'],ascending=False).head(5).plot.bar()"
   ]
  },
  {
   "attachments": {},
   "cell_type": "markdown",
   "metadata": {},
   "source": [
    "#### top 5 teams steals"
   ]
  },
  {
   "cell_type": "code",
   "execution_count": 97,
   "metadata": {},
   "outputs": [
    {
     "data": {
      "text/html": [
       "<div>\n",
       "<style scoped>\n",
       "    .dataframe tbody tr th:only-of-type {\n",
       "        vertical-align: middle;\n",
       "    }\n",
       "\n",
       "    .dataframe tbody tr th {\n",
       "        vertical-align: top;\n",
       "    }\n",
       "\n",
       "    .dataframe thead th {\n",
       "        text-align: right;\n",
       "    }\n",
       "</style>\n",
       "<table border=\"1\" class=\"dataframe\">\n",
       "  <thead>\n",
       "    <tr style=\"text-align: right;\">\n",
       "      <th></th>\n",
       "      <th>W</th>\n",
       "      <th>L</th>\n",
       "      <th>TSTL</th>\n",
       "    </tr>\n",
       "    <tr>\n",
       "      <th>Team</th>\n",
       "      <th></th>\n",
       "      <th></th>\n",
       "      <th></th>\n",
       "    </tr>\n",
       "  </thead>\n",
       "  <tbody>\n",
       "    <tr>\n",
       "      <th>San Antonio Spurs</th>\n",
       "      <td>25249.0</td>\n",
       "      <td>12930.0</td>\n",
       "      <td>19592.2</td>\n",
       "    </tr>\n",
       "    <tr>\n",
       "      <th>Miami Heat</th>\n",
       "      <td>23208.0</td>\n",
       "      <td>19045.0</td>\n",
       "      <td>20380.4</td>\n",
       "    </tr>\n",
       "    <tr>\n",
       "      <th>Houston Rockets</th>\n",
       "      <td>22400.0</td>\n",
       "      <td>16640.0</td>\n",
       "      <td>21144.6</td>\n",
       "    </tr>\n",
       "    <tr>\n",
       "      <th>Boston Celtics</th>\n",
       "      <td>22130.0</td>\n",
       "      <td>19319.0</td>\n",
       "      <td>21707.2</td>\n",
       "    </tr>\n",
       "    <tr>\n",
       "      <th>Indiana Pacers</th>\n",
       "      <td>21906.0</td>\n",
       "      <td>19031.0</td>\n",
       "      <td>20531.1</td>\n",
       "    </tr>\n",
       "  </tbody>\n",
       "</table>\n",
       "</div>"
      ],
      "text/plain": [
       "                         W        L     TSTL\n",
       "Team                                        \n",
       "San Antonio Spurs  25249.0  12930.0  19592.2\n",
       "Miami Heat         23208.0  19045.0  20380.4\n",
       "Houston Rockets    22400.0  16640.0  21144.6\n",
       "Boston Celtics     22130.0  19319.0  21707.2\n",
       "Indiana Pacers     21906.0  19031.0  20531.1"
      ]
     },
     "execution_count": 97,
     "metadata": {},
     "output_type": "execute_result"
    }
   ],
   "source": [
    "Team_stats[['Team','W','L','TSTL']].groupby('Team').sum().sort_values(['W','TSTL'],ascending=False).head(5)"
   ]
  },
  {
   "cell_type": "code",
   "execution_count": 98,
   "metadata": {},
   "outputs": [
    {
     "data": {
      "text/plain": [
       "<Axes: xlabel='Team'>"
      ]
     },
     "execution_count": 98,
     "metadata": {},
     "output_type": "execute_result"
    },
    {
     "data": {
      "image/png": "[encoded data removed]",
      "text/plain": [
       "<Figure size 640x480 with 1 Axes>"
      ]
     },
     "metadata": {},
     "output_type": "display_data"
    }
   ],
   "source": [
    "Team_stats[['Team','W','L','TSTL']].groupby('Team').sum().sort_values(['W','TSTL'],ascending=False).head(5).plot.bar()"
   ]
  },
  {
   "attachments": {},
   "cell_type": "markdown",
   "metadata": {},
   "source": [
    "#### top 5 teams blocks"
   ]
  },
  {
   "cell_type": "code",
   "execution_count": 99,
   "metadata": {},
   "outputs": [
    {
     "data": {
      "text/html": [
       "<div>\n",
       "<style scoped>\n",
       "    .dataframe tbody tr th:only-of-type {\n",
       "        vertical-align: middle;\n",
       "    }\n",
       "\n",
       "    .dataframe tbody tr th {\n",
       "        vertical-align: top;\n",
       "    }\n",
       "\n",
       "    .dataframe thead th {\n",
       "        text-align: right;\n",
       "    }\n",
       "</style>\n",
       "<table border=\"1\" class=\"dataframe\">\n",
       "  <thead>\n",
       "    <tr style=\"text-align: right;\">\n",
       "      <th></th>\n",
       "      <th>W</th>\n",
       "      <th>L</th>\n",
       "      <th>TBLK</th>\n",
       "    </tr>\n",
       "    <tr>\n",
       "      <th>Team</th>\n",
       "      <th></th>\n",
       "      <th></th>\n",
       "      <th></th>\n",
       "    </tr>\n",
       "  </thead>\n",
       "  <tbody>\n",
       "    <tr>\n",
       "      <th>San Antonio Spurs</th>\n",
       "      <td>25249.0</td>\n",
       "      <td>12930.0</td>\n",
       "      <td>14914.3</td>\n",
       "    </tr>\n",
       "    <tr>\n",
       "      <th>Miami Heat</th>\n",
       "      <td>23208.0</td>\n",
       "      <td>19045.0</td>\n",
       "      <td>13074.3</td>\n",
       "    </tr>\n",
       "    <tr>\n",
       "      <th>Houston Rockets</th>\n",
       "      <td>22400.0</td>\n",
       "      <td>16640.0</td>\n",
       "      <td>13302.2</td>\n",
       "    </tr>\n",
       "    <tr>\n",
       "      <th>Boston Celtics</th>\n",
       "      <td>22130.0</td>\n",
       "      <td>19319.0</td>\n",
       "      <td>12617.5</td>\n",
       "    </tr>\n",
       "    <tr>\n",
       "      <th>Indiana Pacers</th>\n",
       "      <td>21906.0</td>\n",
       "      <td>19031.0</td>\n",
       "      <td>13554.6</td>\n",
       "    </tr>\n",
       "  </tbody>\n",
       "</table>\n",
       "</div>"
      ],
      "text/plain": [
       "                         W        L     TBLK\n",
       "Team                                        \n",
       "San Antonio Spurs  25249.0  12930.0  14914.3\n",
       "Miami Heat         23208.0  19045.0  13074.3\n",
       "Houston Rockets    22400.0  16640.0  13302.2\n",
       "Boston Celtics     22130.0  19319.0  12617.5\n",
       "Indiana Pacers     21906.0  19031.0  13554.6"
      ]
     },
     "execution_count": 99,
     "metadata": {},
     "output_type": "execute_result"
    }
   ],
   "source": [
    "Team_stats[['Team','W','L','TBLK']].groupby('Team').sum().sort_values(['W','TBLK'],ascending=False).head(5)"
   ]
  },
  {
   "cell_type": "code",
   "execution_count": 100,
   "metadata": {},
   "outputs": [
    {
     "data": {
      "text/plain": [
       "<Axes: xlabel='Team'>"
      ]
     },
     "execution_count": 100,
     "metadata": {},
     "output_type": "execute_result"
    },
    {
     "data": {
      "image/png": "[encoded data removed]",
      "text/plain": [
       "<Figure size 640x480 with 1 Axes>"
      ]
     },
     "metadata": {},
     "output_type": "display_data"
    }
   ],
   "source": [
    "Team_stats[['Team','W','L','TBLK']].groupby('Team').sum().sort_values(['W','TBLK'],ascending=False).head(5).plot.bar()"
   ]
  },
  {
   "attachments": {},
   "cell_type": "markdown",
   "metadata": {},
   "source": [
    "#### top 5 teams turnovers"
   ]
  },
  {
   "cell_type": "code",
   "execution_count": 101,
   "metadata": {},
   "outputs": [
    {
     "data": {
      "text/html": [
       "<div>\n",
       "<style scoped>\n",
       "    .dataframe tbody tr th:only-of-type {\n",
       "        vertical-align: middle;\n",
       "    }\n",
       "\n",
       "    .dataframe tbody tr th {\n",
       "        vertical-align: top;\n",
       "    }\n",
       "\n",
       "    .dataframe thead th {\n",
       "        text-align: right;\n",
       "    }\n",
       "</style>\n",
       "<table border=\"1\" class=\"dataframe\">\n",
       "  <thead>\n",
       "    <tr style=\"text-align: right;\">\n",
       "      <th></th>\n",
       "      <th>W</th>\n",
       "      <th>L</th>\n",
       "      <th>TTOV</th>\n",
       "    </tr>\n",
       "    <tr>\n",
       "      <th>Team</th>\n",
       "      <th></th>\n",
       "      <th></th>\n",
       "      <th></th>\n",
       "    </tr>\n",
       "  </thead>\n",
       "  <tbody>\n",
       "    <tr>\n",
       "      <th>San Antonio Spurs</th>\n",
       "      <td>25249.0</td>\n",
       "      <td>12930.0</td>\n",
       "      <td>35925.0</td>\n",
       "    </tr>\n",
       "    <tr>\n",
       "      <th>Miami Heat</th>\n",
       "      <td>23208.0</td>\n",
       "      <td>19045.0</td>\n",
       "      <td>37731.7</td>\n",
       "    </tr>\n",
       "    <tr>\n",
       "      <th>Houston Rockets</th>\n",
       "      <td>22400.0</td>\n",
       "      <td>16640.0</td>\n",
       "      <td>38954.4</td>\n",
       "    </tr>\n",
       "    <tr>\n",
       "      <th>Boston Celtics</th>\n",
       "      <td>22130.0</td>\n",
       "      <td>19319.0</td>\n",
       "      <td>37654.6</td>\n",
       "    </tr>\n",
       "    <tr>\n",
       "      <th>Indiana Pacers</th>\n",
       "      <td>21906.0</td>\n",
       "      <td>19031.0</td>\n",
       "      <td>38393.8</td>\n",
       "    </tr>\n",
       "  </tbody>\n",
       "</table>\n",
       "</div>"
      ],
      "text/plain": [
       "                         W        L     TTOV\n",
       "Team                                        \n",
       "San Antonio Spurs  25249.0  12930.0  35925.0\n",
       "Miami Heat         23208.0  19045.0  37731.7\n",
       "Houston Rockets    22400.0  16640.0  38954.4\n",
       "Boston Celtics     22130.0  19319.0  37654.6\n",
       "Indiana Pacers     21906.0  19031.0  38393.8"
      ]
     },
     "execution_count": 101,
     "metadata": {},
     "output_type": "execute_result"
    }
   ],
   "source": [
    "Team_stats[['Team','W','L','TTOV']].groupby('Team').sum().sort_values(['W','TTOV'],ascending=False).head(5)"
   ]
  },
  {
   "cell_type": "code",
   "execution_count": 102,
   "metadata": {},
   "outputs": [
    {
     "data": {
      "text/plain": [
       "<Axes: xlabel='Team'>"
      ]
     },
     "execution_count": 102,
     "metadata": {},
     "output_type": "execute_result"
    },
    {
     "data": {
      "image/png": "[encoded data removed]",
      "text/plain": [
       "<Figure size 640x480 with 1 Axes>"
      ]
     },
     "metadata": {},
     "output_type": "display_data"
    }
   ],
   "source": [
    "Team_stats[['Team','W','L','TTOV']].groupby('Team').sum().sort_values(['W','TTOV'],ascending=False).head(5).plot.bar()"
   ]
  }
 ],
 "metadata": {
  "kernelspec": {
   "display_name": "minimal_ds2",
   "language": "python",
   "name": "python3"
  },
  "language_info": {
   "codemirror_mode": {
    "name": "ipython",
    "version": 3
   },
   "file_extension": ".py",
   "mimetype": "text/x-python",
   "name": "python",
   "nbconvert_exporter": "python",
   "pygments_lexer": "ipython3",
   "version": "3.11.3"
  },
  "orig_nbformat": 4
 },
 "nbformat": 4,
 "nbformat_minor": 2
}
